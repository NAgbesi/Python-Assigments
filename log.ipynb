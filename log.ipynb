{
 "cells": [
  {
   "cell_type": "code",
   "execution_count": 1,
   "metadata": {},
   "outputs": [
    {
     "name": "stdout",
     "output_type": "stream",
     "text": [
      "['Jan 31 00:21:30 ubuntu.local ticky: ERROR The ticket was modified while updating (breee)\\n', 'Jan 31 00:44:34 ubuntu.local ticky: ERROR Permission denied while closing ticket (ac)\\n', 'Jan 31 01:33:12 ubuntu.local ticky: ERROR Tried to add information to closed ticket (mcintosh)\\n', 'Jan 31 01:43:10 ubuntu.local ticky: ERROR Tried to add information to closed ticket (jackowens)\\n', 'Jan 31 01:49:29 ubuntu.local ticky: ERROR Tried to add information to closed ticket (mdouglas)\\n', 'Jan 31 02:30:04 ubuntu.local ticky: ERROR Timeout while retrieving information (oren)\\n', \"Jan 31 02:55:31 ubuntu.local ticky: ERROR Ticket doesn't exist (xlg)\\n\", 'Jan 31 03:05:35 ubuntu.local ticky: ERROR Timeout while retrieving information (ahmed.miller)\\n', \"Jan 31 03:08:55 ubuntu.local ticky: ERROR Ticket doesn't exist (blossom)\\n\", 'Jan 31 03:39:27 ubuntu.local ticky: ERROR The ticket was modified while updating (bpacheco)\\n', \"Jan 31 03:47:24 ubuntu.local ticky: ERROR Ticket doesn't exist (enim.non)\\n\", 'Jan 31 04:30:04 ubuntu.local ticky: ERROR Permission denied while closing ticket (rr.robinson)\\n', 'Jan 31 04:31:49 ubuntu.local ticky: ERROR Tried to add information to closed ticket (oren)\\n', 'Jan 31 04:32:49 ubuntu.local ticky: ERROR Timeout while retrieving information (mcintosh)\\n', 'Jan 31 04:44:23 ubuntu.local ticky: ERROR Timeout while retrieving information (ahmed.miller)\\n', 'Jan 31 04:44:46 ubuntu.local ticky: ERROR Connection to DB failed (jackowens)\\n', 'Jan 31 04:49:28 ubuntu.local ticky: ERROR Permission denied while closing ticket (flavia)\\n', 'Jan 31 05:12:39 ubuntu.local ticky: ERROR Tried to add information to closed ticket (oren)\\n', 'Jan 31 05:18:45 ubuntu.local ticky: ERROR Tried to add information to closed ticket (sri)\\n', 'Jan 31 05:35:00 ubuntu.local ticky: ERROR Connection to DB failed (nonummy)\\n', 'Jan 31 05:51:30 ubuntu.local ticky: ERROR The ticket was modified while updating (flavia)\\n', 'Jan 31 06:12:02 ubuntu.local ticky: ERROR Connection to DB failed (oren)\\n', 'Jan 31 06:26:38 ubuntu.local ticky: ERROR Timeout while retrieving information (xlg)\\n', 'Jan 31 06:36:25 ubuntu.local ticky: ERROR Timeout while retrieving information (flavia)\\n', 'Jan 31 06:57:00 ubuntu.local ticky: ERROR Connection to DB failed (jackowens)\\n', \"Jan 31 07:59:56 ubuntu.local ticky: ERROR Ticket doesn't exist (flavia)\\n\", 'Jan 31 08:01:40 ubuntu.local ticky: ERROR Tried to add information to closed ticket (jackowens)\\n', 'Jan 31 08:28:07 ubuntu.local ticky: ERROR Timeout while retrieving information (montanap)\\n', 'Jan 31 08:49:15 ubuntu.local ticky: ERROR Permission denied while closing ticket (britanni)\\n', 'Jan 31 08:50:50 ubuntu.local ticky: ERROR Permission denied while closing ticket (montanap)\\n', 'Jan 31 09:04:27 ubuntu.local ticky: ERROR Tried to add information to closed ticket (noel)\\n', 'Jan 31 09:15:41 ubuntu.local ticky: ERROR Timeout while retrieving information (oren)\\n', 'Jan 31 09:41:16 ubuntu.local ticky: ERROR Connection to DB failed (ac)\\n', 'Jan 31 10:11:35 ubuntu.local ticky: ERROR Timeout while retrieving information (blossom)\\n', 'Jan 31 10:21:36 ubuntu.local ticky: ERROR Permission denied while closing ticket (montanap)\\n', 'Jan 31 11:04:02 ubuntu.local ticky: ERROR Tried to add information to closed ticket (breee)\\n', 'Jan 31 11:19:37 ubuntu.local ticky: ERROR Connection to DB failed (sri)\\n', 'Jan 31 11:22:06 ubuntu.local ticky: ERROR Timeout while retrieving information (montanap)\\n', 'Jan 31 11:31:34 ubuntu.local ticky: ERROR Permission denied while closing ticket (ahmed.miller)\\n', 'Jan 31 11:40:25 ubuntu.local ticky: ERROR Connection to DB failed (mai.hendrix)\\n', 'Jan 31 11:58:33 ubuntu.local ticky: ERROR Tried to add information to closed ticket (ahmed.miller)\\n', 'Jan 31 12:02:49 ubuntu.local ticky: ERROR Permission denied while closing ticket (mai.hendrix)\\n', 'Jan 31 12:20:23 ubuntu.local ticky: ERROR Connection to DB failed (kirknixon)\\n', \"Jan 31 12:20:40 ubuntu.local ticky: ERROR Ticket doesn't exist (flavia)\\n\", 'Jan 31 12:50:10 ubuntu.local ticky: ERROR Permission denied while closing ticket (blossom)\\n', 'Jan 31 12:58:16 ubuntu.local ticky: ERROR Tried to add information to closed ticket (nonummy)\\n', 'Jan 31 13:48:45 ubuntu.local ticky: ERROR The ticket was modified while updating (breee)\\n', 'Jan 31 14:38:50 ubuntu.local ticky: ERROR The ticket was modified while updating (enim.non)\\n', 'Jan 31 14:41:18 ubuntu.local ticky: ERROR Timeout while retrieving information (xlg)\\n', 'Jan 31 14:56:35 ubuntu.local ticky: ERROR Tried to add information to closed ticket (noel)\\n', \"Jan 31 15:27:53 ubuntu.local ticky: ERROR Ticket doesn't exist (blossom)\\n\", 'Jan 31 15:28:15 ubuntu.local ticky: ERROR Permission denied while closing ticket (enim.non)\\n', 'Jan 31 16:19:40 ubuntu.local ticky: ERROR The ticket was modified while updating (mdouglas)\\n', 'Jan 31 16:35:46 ubuntu.local ticky: ERROR Timeout while retrieving information (oren)\\n', 'Jan 31 16:54:18 ubuntu.local ticky: ERROR Connection to DB failed (bpacheco)\\n', 'Jan 31 17:15:47 ubuntu.local ticky: ERROR The ticket was modified while updating (mcintosh)\\n', 'Jan 31 17:29:11 ubuntu.local ticky: ERROR Connection to DB failed (oren)\\n', 'Jan 31 18:09:17 ubuntu.local ticky: ERROR The ticket was modified while updating (noel)\\n', \"Jan 31 18:43:01 ubuntu.local ticky: ERROR Ticket doesn't exist (nonummy)\\n\", 'Jan 31 19:00:23 ubuntu.local ticky: ERROR Timeout while retrieving information (blossom)\\n', 'Jan 31 19:20:22 ubuntu.local ticky: ERROR Timeout while retrieving information (mai.hendrix)\\n', 'Jan 31 20:02:41 ubuntu.local ticky: ERROR Timeout while retrieving information (xlg)\\n', 'Jan 31 20:28:26 ubuntu.local ticky: ERROR Connection to DB failed (breee)\\n', 'Jan 31 20:48:02 ubuntu.local ticky: ERROR Connection to DB failed (mdouglas)\\n', 'Jan 31 21:02:06 ubuntu.local ticky: ERROR Connection to DB failed (breee)\\n', 'Jan 31 21:29:24 ubuntu.local ticky: ERROR The ticket was modified while updating (blossom)\\n']\n",
      "['Jan 31 00:09:39 ubuntu.local ticky: INFO Created ticket [#4217] (mdouglas)\\n', 'Jan 31 00:16:25 ubuntu.local ticky: INFO Closed ticket [#1754] (noel)\\n', 'Jan 31 01:00:50 ubuntu.local ticky: INFO Commented on ticket [#4709] (blossom)\\n', 'Jan 31 01:29:16 ubuntu.local ticky: INFO Commented on ticket [#6518] (rr.robinson)\\n', 'Jan 31 05:23:14 ubuntu.local ticky: INFO Commented on ticket [#1097] (breee)\\n', 'Jan 31 05:45:30 ubuntu.local ticky: INFO Created ticket [#7115] (noel)\\n', 'Jan 31 05:57:46 ubuntu.local ticky: INFO Commented on ticket [#2253] (nonummy)\\n', 'Jan 31 06:32:26 ubuntu.local ticky: INFO Created ticket [#7298] (ahmed.miller)\\n', 'Jan 31 06:59:57 ubuntu.local ticky: INFO Commented on ticket [#7255] (oren)\\n', 'Jan 31 08:03:19 ubuntu.local ticky: INFO Closed ticket [#1712] (britanni)\\n', 'Jan 31 08:22:37 ubuntu.local ticky: INFO Created ticket [#2860] (mcintosh)\\n', 'Jan 31 09:18:47 ubuntu.local ticky: INFO Commented on ticket [#8385] (mdouglas)\\n', 'Jan 31 09:28:18 ubuntu.local ticky: INFO Closed ticket [#2452] (jackowens)\\n', 'Jan 31 11:47:07 ubuntu.local ticky: INFO Commented on ticket [#4562] (ac)\\n', 'Jan 31 12:00:17 ubuntu.local ticky: INFO Created ticket [#7897] (kirknixon)\\n', 'Jan 31 12:24:32 ubuntu.local ticky: INFO Created ticket [#5784] (sri)\\n', 'Jan 31 13:08:10 ubuntu.local ticky: INFO Closed ticket [#8685] (rr.robinson)\\n', 'Jan 31 14:13:00 ubuntu.local ticky: INFO Commented on ticket [#4225] (noel)\\n', 'Jan 31 14:45:55 ubuntu.local ticky: INFO Closed ticket [#7948] (noel)\\n', 'Jan 31 14:50:41 ubuntu.local ticky: INFO Commented on ticket [#8628] (noel)\\n', 'Jan 31 15:44:25 ubuntu.local ticky: INFO Closed ticket [#7333] (enim.non)\\n', 'Jan 31 16:17:20 ubuntu.local ticky: INFO Commented on ticket [#1653] (noel)\\n', 'Jan 31 16:24:31 ubuntu.local ticky: INFO Created ticket [#5455] (ac)\\n', 'Jan 31 16:53:54 ubuntu.local ticky: INFO Commented on ticket [#3813] (mcintosh)\\n', 'Jan 31 17:51:52 ubuntu.local ticky: INFO Closed ticket [#8604] (mcintosh)\\n', 'Jan 31 19:59:06 ubuntu.local ticky: INFO Created ticket [#6361] (enim.non)\\n', 'Jan 31 20:21:55 ubuntu.local ticky: INFO Commented on ticket [#7159] (ahmed.miller)\\n', 'Jan 31 20:35:17 ubuntu.local ticky: INFO Created ticket [#7737] (nonummy)\\n', 'Jan 31 20:56:58 ubuntu.local ticky: INFO Closed ticket [#4372] (oren)\\n', 'Jan 31 21:00:23 ubuntu.local ticky: INFO Commented on ticket [#2389] (sri)\\n', 'Jan 31 21:20:33 ubuntu.local ticky: INFO Closed ticket [#3297] (kirknixon)\\n', 'Jan 31 22:58:55 ubuntu.local ticky: INFO Created ticket [#2461] (jackowens)\\n', 'Jan 31 23:25:18 ubuntu.local ticky: INFO Closed ticket [#9876] (blossom)\\n', 'Jan 31 23:35:40 ubuntu.local ticky: INFO Created ticket [#5896] (mcintosh)\\n']\n"
     ]
    },
    {
     "data": {
      "text/plain": [
       "<function TextIOWrapper.close()>"
      ]
     },
     "execution_count": 1,
     "metadata": {},
     "output_type": "execute_result"
    }
   ],
   "source": [
    "\n",
    "f = open(r\"C:\\Users\\Nelor\\OneDrive\\Documents\\sys.txt\", \"r\")\n",
    "log = f.readlines()\n",
    "errors, info  = [], []\n",
    "for line in log:\n",
    "    if \"ERROR\" in line:\n",
    "        errors.append(line)\n",
    "    elif \"INFO\" in line:\n",
    "        info.append(line)\n",
    "\n",
    "print(errors)\n",
    "print(info)\n",
    "f.close\n",
    "\n"
   ]
  },
  {
   "cell_type": "code",
   "execution_count": 2,
   "metadata": {},
   "outputs": [
    {
     "name": "stdout",
     "output_type": "stream",
     "text": [
      "[('Timeout while retrieving information', 15), ('Connection to DB failed', 13), ('Permission denied while closing ticket', 10), ('The ticket was modified while updating', 9), (\"Ticket doesn't exist\", 7)]\n"
     ]
    }
   ],
   "source": [
    "import re\n",
    "import operator\n",
    "error_logs = {}\n",
    "messages = [\"Timeout while retrieving information\",\"The ticket was modified while updating\",\"Connection to DB failed\",\"Tried to add information to a closed ticket\",\"Permission denied while closing ticket\",\"Ticket doesn't exist\"]\n",
    "\n",
    "for item in errors:\n",
    "    for message in messages:\n",
    "        if message not in error_logs and message in item:\n",
    "            error_logs[message] = 1\n",
    "        elif message in error_logs and message in item:\n",
    "            error_logs[message] += 1\n",
    "\n",
    "error_count = (sorted(error_logs.items(), key = operator.itemgetter(1), reverse= True))\n",
    "print(error_count)\n"
   ]
  },
  {
   "cell_type": "code",
   "execution_count": 3,
   "metadata": {},
   "outputs": [
    {
     "name": "stdout",
     "output_type": "stream",
     "text": [
      "{'breee': 5, 'ac': 2, 'mcintosh': 3, 'jackowens': 4, 'mdouglas': 3, 'oren': 7, 'xlg': 4, 'ahmed.miller': 4, 'blossom': 6, 'bpacheco': 2, 'enim.non': 3, 'rr.robinson': 1, 'flavia': 5, 'sri': 2, 'nonummy': 3, 'montanap': 4, 'britanni': 1, 'noel': 3, 'mai.hendrix': 3, 'kirknixon': 1}\n",
      "{'mdouglas': 2, 'noel': 6, 'blossom': 2, 'rr.robinson': 2, 'breee': 1, 'nonummy': 2, 'ahmed.miller': 2, 'oren': 2, 'britanni': 1, 'mcintosh': 4, 'jackowens': 2, 'ac': 2, 'kirknixon': 2, 'sri': 2, 'enim.non': 2}\n"
     ]
    }
   ],
   "source": [
    "import re\n",
    "\n",
    "pattern = r\"\\([a-zA-z\\.]+\\)\"\n",
    "\n",
    "users_err, users_info = {}, {}\n",
    "\n",
    "for item in errors:\n",
    "    x = re.search(pattern,item)  \n",
    "    user = x.group().replace(\"(\",\"\").replace(\")\",\"\")\n",
    "    if user not in users_err:\n",
    "        users_err[user] = 1\n",
    "    elif user in users_err:\n",
    "        users_err[user] += 1\n",
    "\n",
    "for item in info:\n",
    "    y = re.search(pattern,item)  \n",
    "    user = y.group().replace(\"(\",\"\").replace(\")\",\"\")\n",
    "    if user not in users_info:\n",
    "        users_info[user] = 1\n",
    "    elif user in users_info:\n",
    "        users_info[user] += 1\n",
    "\n",
    "print(users_err)\n",
    "print(users_info)\n"
   ]
  }
 ],
 "metadata": {
  "kernelspec": {
   "display_name": "Python 3",
   "language": "python",
   "name": "python3"
  },
  "language_info": {
   "codemirror_mode": {
    "name": "ipython",
    "version": 3
   },
   "file_extension": ".py",
   "mimetype": "text/x-python",
   "name": "python",
   "nbconvert_exporter": "python",
   "pygments_lexer": "ipython3",
   "version": "3.11.2"
  },
  "orig_nbformat": 4,
  "vscode": {
   "interpreter": {
    "hash": "82d38d0c8ab1306e1cc96fc61ecf05bb637dbbcb435f62dd8acb145c0db466c0"
   }
  }
 },
 "nbformat": 4,
 "nbformat_minor": 2
}
